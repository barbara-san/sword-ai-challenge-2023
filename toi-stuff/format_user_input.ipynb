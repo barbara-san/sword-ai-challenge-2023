{
 "cells": [
  {
   "cell_type": "code",
   "execution_count": 3,
   "metadata": {},
   "outputs": [],
   "source": [
    "import os\n",
    "from langchain.llms import AzureOpenAI\n",
    "from langchain.chat_models import AzureChatOpenAI\n",
    "from langchain.schema import AIMessage, HumanMessage, SystemMessage"
   ]
  },
  {
   "cell_type": "code",
   "execution_count": 4,
   "metadata": {},
   "outputs": [],
   "source": [
    "AZURE_OPENAI_KEY = \"4f8e9d40be39474c96fa1327dbd47516\"\n",
    "AZURE_OPENAI_ENDPOINT = \"https://openai-resource-team-3-france.openai.azure.com/\"\n",
    "OPENAI_API_VERSION = \"2023-03-15-preview\"\n",
    "\n",
    "os.environ[\"OPENAI_API_KEY\"] = AZURE_OPENAI_KEY\n",
    "os.environ[\"OPENAI_API_BASE\"] = AZURE_OPENAI_ENDPOINT\n",
    "os.environ[\"OPENAI_API_VERSION\"] = OPENAI_API_VERSION\n",
    "os.environ[\"OPENAI_API_TYPE\"] = \"azure\""
   ]
  },
  {
   "cell_type": "code",
   "execution_count": 14,
   "metadata": {},
   "outputs": [],
   "source": [
    "better_prompt_llm = AzureChatOpenAI(deployment_name=\"gpt35-team-3-0301\", temperature= 0.2)\n",
    "chat_llm = AzureChatOpenAI(deployment_name=\"gpt35-team-3-0301\")\n"
   ]
  },
  {
   "cell_type": "code",
   "execution_count": 12,
   "metadata": {},
   "outputs": [],
   "source": [
    "def better_prompt(prompt):\n",
    "    return better_prompt_llm.predict(\n",
    "        f\"\"\"\\\n",
    "        The AI is going to receive a prompt from the user, delimited by ```. \\\n",
    "        The AI must process the prompt and alter it in order to make it more accurate and understandable for any LLM model. \\\n",
    "        The context and idea of the given prompt MUST remain inaltered. \\\n",
    "        The new prompt may include new additional text that is predictable to be presented by the human in the future. \\\n",
    "        \\\n",
    "        Prompt: \\\n",
    "        ```\\\n",
    "        {prompt}\\\n",
    "        ```\\\n",
    "        \\\n",
    "        You MUST only return the new prompt, and nothing else, in the format \\\"New prompt:\\\".\\\n",
    "        \"\"\"\n",
    "    )"
   ]
  },
  {
   "cell_type": "code",
   "execution_count": 13,
   "metadata": {},
   "outputs": [
    {
     "name": "stdout",
     "output_type": "stream",
     "text": [
      "New prompt: How can I improve my grades and academic performance? Additionally, what study habits or resources can I utilize to achieve my academic goals?\n"
     ]
    }
   ],
   "source": [
    "prompt = \"How can I better up my grades?\"\n",
    "better = better_prompt(prompt)\n",
    "print(better)"
   ]
  },
  {
   "cell_type": "code",
   "execution_count": 18,
   "metadata": {},
   "outputs": [
    {
     "data": {
      "text/plain": [
       "\"As an AI language model, I don't know your current academic situation, but here are some general tips that can help you improve your grades:\\n\\n1. Attend classes regularly and focus on active participation in classroom discussions.\\n2. Take notes during lectures and review them regularly.\\n3. Create a study schedule and manage your time effectively.\\n4. Find a suitable study space that is free from distractions.\\n5. Use different learning techniques, such as flashcards or mind maps, to help you remember information.\\n6. Seek help from teachers or tutors if you are struggling with a particular subject.\\n7. Practice past exam papers and quizzes to prepare for exams.\\n8. Take care of your physical and mental health, such as getting enough sleep and exercise, to help you stay focused.\\n9. Avoid procrastination and start assignments early to allow enough time for research and revisions.\\n10. Stay motivated and set achievable goals for yourself.\""
      ]
     },
     "execution_count": 18,
     "metadata": {},
     "output_type": "execute_result"
    }
   ],
   "source": [
    "chat_llm.predict(prompt)"
   ]
  },
  {
   "cell_type": "markdown",
   "metadata": {},
   "source": [
    "\"As an AI language model, I don't know your current academic situation, but here are some general tips that can help you improve your grades:\n",
    "1. Attend classes regularly and focus on active participation in classroom discussions.\n",
    "2. Take notes during lectures and review them regularly.\n",
    "3. Create a study schedule and manage your time effectively.\n",
    "4. Find a suitable study space that is free from distractions.\n",
    "5. Use different learning techniques, such as flashcards or mind maps, to help you remember information.\n",
    "6. Seek help from teachers or tutors if you are struggling with a particular subject.\n",
    "7. Practice past exam papers and quizzes to prepare for exams.\n",
    "8. Take care of your physical and mental health, such as getting enough sleep and exercise, to help you stay focused.\n",
    "9. Avoid procrastination and start assignments early to allow enough time for research and revisions.\n",
    "10. Stay motivated and set achievable goals for yourself.\""
   ]
  },
  {
   "cell_type": "code",
   "execution_count": 19,
   "metadata": {},
   "outputs": [
    {
     "data": {
      "text/plain": [
       "'Improving your grades and academic performance requires commitment, discipline, and the right resources. Here are a few tips and study habits that can help you achieve your academic goals:\\n\\n1. Set clear goals: Start by setting clear academic goals for yourself. This means identifying the specific grades or GPA you want to achieve and the timeline in which you want to achieve them.\\n\\n2. Create a study schedule: Create a study schedule that works for you, and stick to it. This means designating specific times of the day or week to study, and avoiding distractions during those times.\\n\\n3. Use a planner: Use a planner to keep track of all your assignments, tests, and deadlines. This will help you stay organized and on top of your academic workload.\\n\\n4. Take breaks: Taking breaks is important for maintaining focus and avoiding burnout. Take short breaks every hour or so, and longer breaks after completing a significant task.\\n\\n5. Utilize resources: Make use of all the resources available to you, such as textbooks, online resources, study groups, and tutoring services. These resources can help you better understand difficult concepts and improve your overall academic performance.\\n\\n6. Practice good study habits: Good study habits such as taking notes, reviewing material regularly, and actively engaging with the material can help you retain information and improve your grades.\\n\\n7. Stay motivated: Finally, stay motivated and positive. Remember why you are pursuing your academic goals and stay focused on your long-term objectives. Celebrate your successes along the way, and learn from your mistakes.'"
      ]
     },
     "execution_count": 19,
     "metadata": {},
     "output_type": "execute_result"
    }
   ],
   "source": [
    "chat_llm.predict(better)"
   ]
  },
  {
   "cell_type": "markdown",
   "metadata": {},
   "source": [
    "'Improving your grades and academic performance requires commitment, discipline, and the right resources. Here are a few tips and study habits that can help you achieve your academic goals:\n",
    "1. Set clear goals: Start by setting clear academic goals for yourself. This means identifying the specific grades or GPA you want to achieve and the timeline in which you want to achieve them.\n",
    "2. Create a study schedule: Create a study schedule that works for you, and stick to it. This means designating specific times of the day or week to study, and avoiding distractions during those times.\n",
    "3. Use a planner: Use a planner to keep track of all your assignments, tests, and deadlines. This will help you stay organized and on top of your academic workload.\n",
    "4. Take breaks: Taking breaks is important for maintaining focus and avoiding burnout. Take short breaks every hour or so, and longer breaks after completing a significant task.\n",
    "5. Utilize resources: Make use of all the resources available to you, such as textbooks, online resources, study groups, and tutoring services. These resources can help you better understand difficult concepts and improve your overall academic performance.\n",
    "6. Practice good study habits: Good study habits such as taking notes, reviewing material regularly, and actively engaging with the material can help you retain information and improve your grades.\n",
    "7. Stay motivated: Finally, stay motivated and positive. Remember why you are pursuing your academic goals and stay focused on your long-term objectives. Celebrate your successes along the way, and learn from your mistakes.'"
   ]
  }
 ],
 "metadata": {
  "kernelspec": {
   "display_name": "base",
   "language": "python",
   "name": "python3"
  },
  "language_info": {
   "codemirror_mode": {
    "name": "ipython",
    "version": 3
   },
   "file_extension": ".py",
   "mimetype": "text/x-python",
   "name": "python",
   "nbconvert_exporter": "python",
   "pygments_lexer": "ipython3",
   "version": "3.9.7"
  },
  "orig_nbformat": 4
 },
 "nbformat": 4,
 "nbformat_minor": 2
}
