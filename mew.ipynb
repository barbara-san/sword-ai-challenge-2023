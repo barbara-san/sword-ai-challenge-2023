{
 "cells": [
  {
   "cell_type": "code",
   "execution_count": null,
   "metadata": {},
   "outputs": [],
   "source": [
    "import panel as pn"
   ]
  },
  {
   "cell_type": "code",
   "execution_count": null,
   "metadata": {},
   "outputs": [],
   "source": [
    "pn.extension()"
   ]
  },
  {
   "cell_type": "code",
   "execution_count": null,
   "metadata": {},
   "outputs": [],
   "source": [
    "# Create input text box\n",
    "input_box = pn.widgets.TextInput(name='you:', value='', height=50)\n",
    "\n",
    "# Create output box\n",
    "output_box = pn.widgets.TextAreaInput(name='chat', value='', height=200, disabled=True)\n",
    "\n",
    "# Create a button for submitting input\n",
    "submit_button = pn.widgets.Button(name='Submit', button_type='primary')\n",
    "# Create a button for submitting input\n",
    "clear_button = pn.widgets.Button(name='X', button_type='danger', width=50)"
   ]
  },
  {
   "cell_type": "code",
   "execution_count": null,
   "metadata": {},
   "outputs": [],
   "source": [
    "# Function to update output box\n",
    "def update_output(event):\n",
    "    # Get input value\n",
    "    input_value = input_box.value\n",
    "    # Calculate output\n",
    "    output_value = len(input_value)\n",
    "    # Update output box with input/output history\n",
    "    output_box.value += f'Input: {input_value} \\nOutput: {output_value}\\n'"
   ]
  },
  {
   "cell_type": "code",
   "execution_count": null,
   "metadata": {},
   "outputs": [],
   "source": [
    "def clear_input(event):\n",
    "    input_box.value = \"\""
   ]
  },
  {
   "cell_type": "code",
   "execution_count": null,
   "metadata": {},
   "outputs": [],
   "source": [
    "# Add listener to submit button\n",
    "submit_button.on_click(update_output)"
   ]
  },
  {
   "cell_type": "code",
   "execution_count": null,
   "metadata": {},
   "outputs": [],
   "source": [
    "clear_button.on_click(clear_input)"
   ]
  },
  {
   "cell_type": "code",
   "execution_count": null,
   "metadata": {},
   "outputs": [],
   "source": [
    "# Create a Panel to display the widgets\n",
    "input_row = pn.Row(input_box, clear_button)\n",
    "panel = pn.Column(input_row, submit_button, output_box)"
   ]
  },
  {
   "cell_type": "code",
   "execution_count": null,
   "metadata": {},
   "outputs": [],
   "source": [
    "# Display the Panel\n",
    "panel.servable()"
   ]
  },
  {
   "cell_type": "code",
   "execution_count": null,
   "metadata": {},
   "outputs": [],
   "source": []
  }
 ],
 "metadata": {
  "kernelspec": {
   "display_name": "Python 3 (ipykernel)",
   "language": "python",
   "name": "python3"
  },
  "language_info": {
   "codemirror_mode": {
    "name": "ipython",
    "version": 3
   },
   "file_extension": ".py",
   "mimetype": "text/x-python",
   "name": "python",
   "nbconvert_exporter": "python",
   "pygments_lexer": "ipython3",
   "version": "3.9.7"
  }
 },
 "nbformat": 4,
 "nbformat_minor": 2
}
