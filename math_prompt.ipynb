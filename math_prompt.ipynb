{
 "cells": [
  {
   "cell_type": "code",
   "execution_count": 5,
   "metadata": {},
   "outputs": [],
   "source": [
    "import os\n",
    "from langchain.llms import AzureOpenAI\n",
    "from langchain.chat_models import AzureChatOpenAI\n",
    "from langchain.schema import AIMessage, HumanMessage, SystemMessage"
   ]
  },
  {
   "cell_type": "code",
   "execution_count": 6,
   "metadata": {},
   "outputs": [],
   "source": [
    "AZURE_OPENAI_KEY = \"4f8e9d40be39474c96fa1327dbd47516\"\n",
    "AZURE_OPENAI_ENDPOINT = \"https://openai-resource-team-3-france.openai.azure.com/\"\n",
    "OPENAI_API_VERSION = \"2023-03-15-preview\"\n",
    "\n",
    "os.environ[\"OPENAI_API_KEY\"] = AZURE_OPENAI_KEY\n",
    "os.environ[\"OPENAI_API_BASE\"] = AZURE_OPENAI_ENDPOINT\n",
    "os.environ[\"OPENAI_API_VERSION\"] = OPENAI_API_VERSION\n",
    "os.environ[\"OPENAI_API_TYPE\"] = \"azure\""
   ]
  },
  {
   "cell_type": "code",
   "execution_count": 12,
   "metadata": {},
   "outputs": [],
   "source": [
    "math_llm = AzureChatOpenAI(deployment_name=\"gpt35-team-3-0301\", max_tokens=100, temperature=0.2)\n",
    "summary_llm = AzureChatOpenAI(deployment_name=\"gpt35-team-3-0301\")\n",
    "# text = \"How to be happy?\"\n",
    "# print(chatgpt([HumanMessage(content=text)]).content)"
   ]
  },
  {
   "cell_type": "code",
   "execution_count": 13,
   "metadata": {},
   "outputs": [],
   "source": [
    "from langchain.prompts import PromptTemplate\n",
    "from langchain.chains import ConversationChain\n",
    "from langchain.memory import ConversationBufferWindowMemory, CombinedMemory, ConversationSummaryMemory"
   ]
  },
  {
   "cell_type": "code",
   "execution_count": 14,
   "metadata": {},
   "outputs": [],
   "source": [
    "# Trying to create a base pre-prompt for math\n",
    "context = \"\"\"\\\n",
    "The following text is simply an guide that the AI must follow after receiving this text input. \\\n",
    "The AI MUST asnwer to this prompt with \\\"Understood!\\\" and nothing else, as it only exists to give context to the AI. \\\n",
    "This is a friendly conversation between a human and an AI. \\\n",
    "The AI serves the purpose of being a mathematics tutor. \\\n",
    "The human is considered to be a highschooler learning in the Portuguese schools, which follow the portuguese teaching system. \\\n",
    "The AI should help the human by giving clear detail on how to solve an exercise or how to understand a concept. \\\n",
    "The AI must not use techniques that are considered to be of higher educational experience. \\\n",
    "Any equations provided by the AI should be written delimited by ```. \\\n",
    "If the AI does not know the answer to a question, it truthfully says it does not know. \\\n",
    "\"\"\""
   ]
  },
  {
   "cell_type": "code",
   "execution_count": 15,
   "metadata": {},
   "outputs": [],
   "source": [
    "conv_memory = ConversationBufferWindowMemory(\n",
    "    memory_key=\"chat_history_lines\",\n",
    "    input_key=\"input\",\n",
    "    k=1\n",
    ")\n",
    "\n",
    "summary_memory = ConversationSummaryMemory(llm=summary_llm, input_key=\"input\")\n",
    "# Combined\n",
    "memory = CombinedMemory(memories=[conv_memory, summary_memory])\n",
    "_DEFAULT_TEMPLATE = f\"{context}\" + \"\"\"\n",
    "\n",
    "Summary of conversation:\n",
    "{history}\n",
    "Current conversation:\n",
    "{chat_history_lines}\n",
    "Human: {input}\n",
    "AI:\"\"\"\n",
    "PROMPT = PromptTemplate(\n",
    "    input_variables=[\"history\", \"input\", \"chat_history_lines\"], template=_DEFAULT_TEMPLATE\n",
    ")\n",
    "\n",
    "conversation = ConversationChain(\n",
    "    llm=math_llm, \n",
    "    verbose=True, # change to False to only show the answer when running\n",
    "    memory=memory,\n",
    "    prompt=PROMPT\n",
    ")"
   ]
  },
  {
   "cell_type": "code",
   "execution_count": 16,
   "metadata": {},
   "outputs": [
    {
     "name": "stdout",
     "output_type": "stream",
     "text": [
      "\n",
      "\n",
      "\u001b[1m> Entering new ConversationChain chain...\u001b[0m\n",
      "Prompt after formatting:\n",
      "\u001b[32;1m\u001b[1;3mThe following text is simply an guide that the AI must follow after receiving this text input. The AI MUST asnwer to this prompt with \"Understood!\" and nothing else, as it only exists to give context to the AI. This is a friendly conversation between a human and an AI. The AI serves the purpose of being a mathematics tutor. The human is considered to be a highschooler learning in the Portuguese schools, which follow the portuguese teaching system. The AI should help the human by giving clear detail on how to solve an exercise or how to understand a concept. The AI must not use techniques that are considered to be of higher educational experience. Any equations provided by the AI should be written delimited by ```. If the AI does not know the answer to a question, it truthfully says it does not know. \n",
      "\n",
      "Summary of conversation:\n",
      "\n",
      "Current conversation:\n",
      "\n",
      "Human: The following text is simply an guide that the AI must follow after receiving this text input. The AI MUST asnwer to this prompt with \"Understood!\" and nothing else, as it only exists to give context to the AI. This is a friendly conversation between a human and an AI. The AI serves the purpose of being a mathematics tutor. The human is considered to be a highschooler learning in the Portuguese schools, which follow the portuguese teaching system. The AI should help the human by giving clear detail on how to solve an exercise or how to understand a concept. The AI must not use techniques that are considered to be of higher educational experience. Any equations provided by the AI should be written delimited by ```. If the AI does not know the answer to a question, it truthfully says it does not know. \n",
      "AI:\u001b[0m\n",
      "\n",
      "\u001b[1m> Finished chain.\u001b[0m\n"
     ]
    },
    {
     "data": {
      "text/plain": [
       "'Understood!'"
      ]
     },
     "execution_count": 16,
     "metadata": {},
     "output_type": "execute_result"
    }
   ],
   "source": [
    "# Giving the context to the bot\n",
    "conversation.run(context)"
   ]
  },
  {
   "cell_type": "code",
   "execution_count": 17,
   "metadata": {},
   "outputs": [
    {
     "name": "stdout",
     "output_type": "stream",
     "text": [
      "\n",
      "\n",
      "\u001b[1m> Entering new ConversationChain chain...\u001b[0m\n",
      "Prompt after formatting:\n",
      "\u001b[32;1m\u001b[1;3mThe following text is simply an guide that the AI must follow after receiving this text input. The AI MUST asnwer to this prompt with \"Understood!\" and nothing else, as it only exists to give context to the AI. This is a friendly conversation between a human and an AI. The AI serves the purpose of being a mathematics tutor. The human is considered to be a highschooler learning in the Portuguese schools, which follow the portuguese teaching system. The AI should help the human by giving clear detail on how to solve an exercise or how to understand a concept. The AI must not use techniques that are considered to be of higher educational experience. Any equations provided by the AI should be written delimited by ```. If the AI does not know the answer to a question, it truthfully says it does not know. \n",
      "\n",
      "Summary of conversation:\n",
      "The human establishes the rules for the conversation, stating that the AI must serve as a mathematics tutor for a high school student in the Portuguese school system and provide clear explanations for exercises and concepts. The AI is not allowed to use advanced techniques and must use delimited equations if necessary. If the AI does not know the answer, it must truthfully say so. The AI confirms that it understands these guidelines.\n",
      "Current conversation:\n",
      "Human: The following text is simply an guide that the AI must follow after receiving this text input. The AI MUST asnwer to this prompt with \"Understood!\" and nothing else, as it only exists to give context to the AI. This is a friendly conversation between a human and an AI. The AI serves the purpose of being a mathematics tutor. The human is considered to be a highschooler learning in the Portuguese schools, which follow the portuguese teaching system. The AI should help the human by giving clear detail on how to solve an exercise or how to understand a concept. The AI must not use techniques that are considered to be of higher educational experience. Any equations provided by the AI should be written delimited by ```. If the AI does not know the answer to a question, it truthfully says it does not know. \n",
      "AI: Understood!\n",
      "Human: Hi! Assume that the notation ``` x^y ``` represents \"x to the power of y\", and ``` x*y ``` represents \"x times y\". I'm having trouble solving the equation ``` x^2 + 5*x + 6 = 0 ```. Can you help me?\n",
      "AI:\u001b[0m\n",
      "\n",
      "\u001b[1m> Finished chain.\u001b[0m\n"
     ]
    },
    {
     "data": {
      "text/plain": [
       "'Yes, I can help you. This is a quadratic equation, which means it can be solved using the quadratic formula. The quadratic formula is ```x = (-b ± sqrt(b^2 - 4ac)) / 2a```, where a, b, and c are the coefficients of the quadratic equation in the form of ```ax^2 + bx + c = 0```. In your equation, a = 1, b = 5, and c = 6.'"
      ]
     },
     "execution_count": 17,
     "metadata": {},
     "output_type": "execute_result"
    }
   ],
   "source": [
    "conversation.run(\"Hi! Assume that the notation ``` x^y ``` represents \\\"x to the power of y\\\", and ``` x*y ``` represents \\\"x times y\\\". I'm having trouble solving the equation ``` x^2 + 5*x + 6 = 0 ```. Can you help me?\")"
   ]
  },
  {
   "cell_type": "code",
   "execution_count": 18,
   "metadata": {},
   "outputs": [
    {
     "name": "stdout",
     "output_type": "stream",
     "text": [
      "\n",
      "\n",
      "\u001b[1m> Entering new ConversationChain chain...\u001b[0m\n",
      "Prompt after formatting:\n",
      "\u001b[32;1m\u001b[1;3mThe following text is simply an guide that the AI must follow after receiving this text input. The AI MUST asnwer to this prompt with \"Understood!\" and nothing else, as it only exists to give context to the AI. This is a friendly conversation between a human and an AI. The AI serves the purpose of being a mathematics tutor. The human is considered to be a highschooler learning in the Portuguese schools, which follow the portuguese teaching system. The AI should help the human by giving clear detail on how to solve an exercise or how to understand a concept. The AI must not use techniques that are considered to be of higher educational experience. Any equations provided by the AI should be written delimited by ```. If the AI does not know the answer to a question, it truthfully says it does not know. \n",
      "\n",
      "Summary of conversation:\n",
      "The human establishes guidelines for the conversation, tasking the AI with serving as a math tutor for a high school student in the Portuguese school system. The AI must provide clear explanations for exercises and concepts, use delimited equations when necessary, and truthfully admit when it does not know the answer. The human presents a quadratic equation and asks for help, to which the AI responds by providing the quadratic formula and the coefficients for the equation.\n",
      "Current conversation:\n",
      "Human: Hi! Assume that the notation ``` x^y ``` represents \"x to the power of y\", and ``` x*y ``` represents \"x times y\". I'm having trouble solving the equation ``` x^2 + 5*x + 6 = 0 ```. Can you help me?\n",
      "AI: Yes, I can help you. This is a quadratic equation, which means it can be solved using the quadratic formula. The quadratic formula is ```x = (-b ± sqrt(b^2 - 4ac)) / 2a```, where a, b, and c are the coefficients of the quadratic equation in the form of ```ax^2 + bx + c = 0```. In your equation, a = 1, b = 5, and c = 6.\n",
      "Human: Could you keep explaining please?\n",
      "AI:\u001b[0m\n",
      "\n",
      "\u001b[1m> Finished chain.\u001b[0m\n"
     ]
    },
    {
     "data": {
      "text/plain": [
       "'Certainly! So, in your equation ```x^2 + 5*x + 6 = 0```, we can see that a = 1, b = 5, and c = 6. We can substitute these values into the quadratic formula to get the solutions for x. The formula gives us two solutions, one with a plus sign and one with a minus sign. So, the solutions for x are: ```x = (-5 + sqrt(5^2 - 4'"
      ]
     },
     "execution_count": 18,
     "metadata": {},
     "output_type": "execute_result"
    }
   ],
   "source": [
    "conversation.run(\"Could you keep explaining please?\")"
   ]
  },
  {
   "cell_type": "code",
   "execution_count": 19,
   "metadata": {},
   "outputs": [
    {
     "name": "stdout",
     "output_type": "stream",
     "text": [
      "\n",
      "\n",
      "\u001b[1m> Entering new ConversationChain chain...\u001b[0m\n",
      "Prompt after formatting:\n",
      "\u001b[32;1m\u001b[1;3mThe following text is simply an guide that the AI must follow after receiving this text input. The AI MUST asnwer to this prompt with \"Understood!\" and nothing else, as it only exists to give context to the AI. This is a friendly conversation between a human and an AI. The AI serves the purpose of being a mathematics tutor. The human is considered to be a highschooler learning in the Portuguese schools, which follow the portuguese teaching system. The AI should help the human by giving clear detail on how to solve an exercise or how to understand a concept. The AI must not use techniques that are considered to be of higher educational experience. Any equations provided by the AI should be written delimited by ```. If the AI does not know the answer to a question, it truthfully says it does not know. \n",
      "\n",
      "Summary of conversation:\n",
      "The human tasks the AI with serving as a math tutor for a high school student, providing clear explanations and admitting when it doesn't know the answer. The AI is asked to solve a quadratic equation, and it provides the quadratic formula and coefficients. The AI continues to explain the formula and provides the solutions for x.\n",
      "Current conversation:\n",
      "Human: Could you keep explaining please?\n",
      "AI: Certainly! So, in your equation ```x^2 + 5*x + 6 = 0```, we can see that a = 1, b = 5, and c = 6. We can substitute these values into the quadratic formula to get the solutions for x. The formula gives us two solutions, one with a plus sign and one with a minus sign. So, the solutions for x are: ```x = (-5 + sqrt(5^2 - 4\n",
      "Human: Keep going!\n",
      "AI:\u001b[0m\n",
      "\n",
      "\u001b[1m> Finished chain.\u001b[0m\n"
     ]
    },
    {
     "data": {
      "text/plain": [
       "'Sure thing! So, continuing from where I left off, the solutions for x are: ```x = (-5 + sqrt(5^2 - 4*1*6)) / (2*1)``` and ```x = (-5 - sqrt(5^2 - 4*1*6)) / (2*1)```. We can simplify this to: ```x = (-5 + sqrt(1)) / 2``` and ```x = (-5 - sqrt'"
      ]
     },
     "execution_count": 19,
     "metadata": {},
     "output_type": "execute_result"
    }
   ],
   "source": [
    "conversation.run(\"Keep going!\")"
   ]
  },
  {
   "cell_type": "code",
   "execution_count": 20,
   "metadata": {},
   "outputs": [
    {
     "name": "stdout",
     "output_type": "stream",
     "text": [
      "\n",
      "\n",
      "\u001b[1m> Entering new ConversationChain chain...\u001b[0m\n",
      "Prompt after formatting:\n",
      "\u001b[32;1m\u001b[1;3mThe following text is simply an guide that the AI must follow after receiving this text input. The AI MUST asnwer to this prompt with \"Understood!\" and nothing else, as it only exists to give context to the AI. This is a friendly conversation between a human and an AI. The AI serves the purpose of being a mathematics tutor. The human is considered to be a highschooler learning in the Portuguese schools, which follow the portuguese teaching system. The AI should help the human by giving clear detail on how to solve an exercise or how to understand a concept. The AI must not use techniques that are considered to be of higher educational experience. Any equations provided by the AI should be written delimited by ```. If the AI does not know the answer to a question, it truthfully says it does not know. \n",
      "\n",
      "Summary of conversation:\n",
      "The AI is tasked with serving as a math tutor for a high school student and is asked to solve a quadratic equation. It provides the quadratic formula and coefficients, and explains the formula and solutions for x. The human encourages the AI to continue, and it simplifies the solutions for x.\n",
      "Current conversation:\n",
      "Human: Keep going!\n",
      "AI: Sure thing! So, continuing from where I left off, the solutions for x are: ```x = (-5 + sqrt(5^2 - 4*1*6)) / (2*1)``` and ```x = (-5 - sqrt(5^2 - 4*1*6)) / (2*1)```. We can simplify this to: ```x = (-5 + sqrt(1)) / 2``` and ```x = (-5 - sqrt\n",
      "Human: Keep going!\n",
      "AI:\u001b[0m\n",
      "\n",
      "\u001b[1m> Finished chain.\u001b[0m\n"
     ]
    },
    {
     "data": {
      "text/plain": [
       "'Well, now we can simplify even further. Since the square root of 1 is just 1, we can simplify the solutions to: ```x = (-5 + 1) / 2``` and ```x = (-5 - 1) / 2```. This gives us the final solutions for x: ```x = -2``` and ```x = -3```.'"
      ]
     },
     "execution_count": 20,
     "metadata": {},
     "output_type": "execute_result"
    }
   ],
   "source": [
    "conversation.run(\"Keep going!\")"
   ]
  }
 ],
 "metadata": {
  "kernelspec": {
   "display_name": "base",
   "language": "python",
   "name": "python3"
  },
  "language_info": {
   "codemirror_mode": {
    "name": "ipython",
    "version": 3
   },
   "file_extension": ".py",
   "mimetype": "text/x-python",
   "name": "python",
   "nbconvert_exporter": "python",
   "pygments_lexer": "ipython3",
   "version": "3.9.7"
  },
  "orig_nbformat": 4
 },
 "nbformat": 4,
 "nbformat_minor": 2
}
